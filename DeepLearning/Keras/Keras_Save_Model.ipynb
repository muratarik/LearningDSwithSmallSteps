{
 "cells": [
  {
   "cell_type": "code",
   "execution_count": null,
   "metadata": {},
   "outputs": [],
   "source": []
  },
  {
   "cell_type": "code",
   "execution_count": 1,
   "metadata": {},
   "outputs": [],
   "source": [
    "import tensorflow as tf\n",
    "import pandas as pd\n",
    "import numpy as np\n",
    "import matplotlib.pyplot as plt\n",
    "import os"
   ]
  },
  {
   "cell_type": "code",
   "execution_count": 2,
   "metadata": {},
   "outputs": [],
   "source": [
    "def create_model():\n",
    "    model = tf.keras.models.Sequential([\n",
    "                tf.keras.layers.Flatten(input_shape = (28,28)),\n",
    "                tf.keras.layers.Dense(512,activation = tf.nn.relu),\n",
    "                tf.keras.layers.Dropout(0.2),\n",
    "        \n",
    "                tf.keras.layers.Dense(10,activation = tf.nn.softmax)])\n",
    "    \n",
    "    model.compile(optimizer = tf.keras.optimizers.Adam(),\n",
    "                  loss      = tf.keras.losses.sparse_categorical_crossentropy,\n",
    "                  metrics   = ['accuracy'])\n",
    "    return model"
   ]
  },
  {
   "cell_type": "code",
   "execution_count": 3,
   "metadata": {},
   "outputs": [
    {
     "name": "stdout",
     "output_type": "stream",
     "text": [
      "Model: \"sequential\"\n",
      "_________________________________________________________________\n",
      "Layer (type)                 Output Shape              Param #   \n",
      "=================================================================\n",
      "flatten (Flatten)            (None, 784)               0         \n",
      "_________________________________________________________________\n",
      "dense (Dense)                (None, 512)               401920    \n",
      "_________________________________________________________________\n",
      "dropout (Dropout)            (None, 512)               0         \n",
      "_________________________________________________________________\n",
      "dense_1 (Dense)              (None, 10)                5130      \n",
      "=================================================================\n",
      "Total params: 407,050\n",
      "Trainable params: 407,050\n",
      "Non-trainable params: 0\n",
      "_________________________________________________________________\n"
     ]
    }
   ],
   "source": [
    "# create a basic model instance\n",
    "\n",
    "model = create_model()\n",
    "model.summary()"
   ]
  },
  {
   "cell_type": "code",
   "execution_count": 4,
   "metadata": {},
   "outputs": [],
   "source": [
    "check_point_path = 'checkpoint/cp.ckpt'\n",
    "check_point_dir = os.path.dirname(check_point_path)"
   ]
  },
  {
   "cell_type": "code",
   "execution_count": 6,
   "metadata": {},
   "outputs": [],
   "source": [
    "# create checkpoint callback\n",
    "\n",
    "cp_callback = tf.keras.callbacks.ModelCheckpoint(check_point_path,\n",
    "                                                 save_weights_only = True,\n",
    "                                                 verbose           = 1)"
   ]
  },
  {
   "cell_type": "code",
   "execution_count": 7,
   "metadata": {},
   "outputs": [],
   "source": [
    "# create first model\n",
    "\n",
    "model = create_model()"
   ]
  },
  {
   "cell_type": "code",
   "execution_count": 8,
   "metadata": {},
   "outputs": [
    {
     "name": "stdout",
     "output_type": "stream",
     "text": [
      "x_train shape:  (60000, 28, 28)\n",
      " \n",
      "Epoch 1/2\n",
      "1869/1875 [============================>.] - ETA: 0s - loss: 0.2177 - accuracy: 0.9353\n",
      "Epoch 00001: saving model to checkpoint/cp.ckpt\n",
      "1875/1875 [==============================] - 8s 5ms/step - loss: 0.2174 - accuracy: 0.9354 - val_loss: 0.1046 - val_accuracy: 0.9687\n",
      "Epoch 2/2\n",
      "1868/1875 [============================>.] - ETA: 0s - loss: 0.0980 - accuracy: 0.9702\n",
      "Epoch 00002: saving model to checkpoint/cp.ckpt\n",
      "1875/1875 [==============================] - 9s 5ms/step - loss: 0.0979 - accuracy: 0.9701 - val_loss: 0.0874 - val_accuracy: 0.9729\n"
     ]
    },
    {
     "data": {
      "text/plain": [
       "<tensorflow.python.keras.callbacks.History at 0x7fe77eac6908>"
      ]
     },
     "execution_count": 8,
     "metadata": {},
     "output_type": "execute_result"
    }
   ],
   "source": [
    "# Load Data\n",
    "\n",
    "mnist = tf.keras.datasets.mnist\n",
    "\n",
    "(x_train,y_train), (x_test,y_test) = mnist.load_data()\n",
    "\n",
    "x_train, x_test = x_train/255, x_test/255\n",
    "\n",
    "print(\"x_train shape: \", x_train.shape)\n",
    "print(\" \")\n",
    "\n",
    "# train the model\n",
    "\n",
    "model.fit(x_train, y_train, \n",
    "          epochs          = 2,\n",
    "          validation_data = (x_test,y_test),\n",
    "          callbacks       = [cp_callback])"
   ]
  },
  {
   "cell_type": "code",
   "execution_count": 9,
   "metadata": {},
   "outputs": [
    {
     "name": "stdout",
     "output_type": "stream",
     "text": [
      "313/313 [==============================] - 1s 2ms/step - loss: 2.3971 - accuracy: 0.0726\n",
      "Untrained model accuracy: 7.3%\n"
     ]
    }
   ],
   "source": [
    "# model 2: Create a new model and load saved model\n",
    "\n",
    "model = create_model()\n",
    "loss, acc = model.evaluate(x_test,y_test)\n",
    "print(\"Untrained model accuracy: %.1f%%\" % (100*acc))"
   ]
  },
  {
   "cell_type": "code",
   "execution_count": 10,
   "metadata": {},
   "outputs": [
    {
     "name": "stdout",
     "output_type": "stream",
     "text": [
      "313/313 [==============================] - 1s 2ms/step - loss: 0.0874 - accuracy: 0.9729\n",
      "Restored model accuracy: 97.29%\n",
      "Restored model accuracy: 97.3%\n"
     ]
    }
   ],
   "source": [
    "model.load_weights(check_point_path)\n",
    "loss, acc = model.evaluate(x_test,y_test)\n",
    "print(\"Restored model accuracy: {:5.2f}%\".format(100*acc))\n",
    "print(\"Restored model accuracy: %.1f%%\" % (100*acc))"
   ]
  },
  {
   "cell_type": "code",
   "execution_count": null,
   "metadata": {},
   "outputs": [],
   "source": []
  }
 ],
 "metadata": {
  "kernelspec": {
   "display_name": "Python 3",
   "language": "python",
   "name": "python3"
  },
  "language_info": {
   "codemirror_mode": {
    "name": "ipython",
    "version": 3
   },
   "file_extension": ".py",
   "mimetype": "text/x-python",
   "name": "python",
   "nbconvert_exporter": "python",
   "pygments_lexer": "ipython3",
   "version": "3.7.3"
  },
  "toc": {
   "base_numbering": 1,
   "nav_menu": {},
   "number_sections": false,
   "sideBar": true,
   "skip_h1_title": true,
   "title_cell": "Table of Contents",
   "title_sidebar": "Contents",
   "toc_cell": false,
   "toc_position": {},
   "toc_section_display": true,
   "toc_window_display": false
  }
 },
 "nbformat": 4,
 "nbformat_minor": 2
}
