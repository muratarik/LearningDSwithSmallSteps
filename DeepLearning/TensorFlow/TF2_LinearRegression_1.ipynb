{
 "cells": [
  {
   "cell_type": "markdown",
   "metadata": {},
   "source": [
    "# Linear Regression with TensorFlow"
   ]
  },
  {
   "cell_type": "code",
   "execution_count": 1,
   "metadata": {},
   "outputs": [],
   "source": [
    "import numpy as np\n",
    "import tensorflow as tf\n",
    "import matplotlib.pyplot as plt"
   ]
  },
  {
   "cell_type": "code",
   "execution_count": 2,
   "metadata": {},
   "outputs": [],
   "source": [
    "def generate_dataset():\n",
    "    x_batch = np.linspace(0, 2, 100)\n",
    "    y_batch = 1.5 * x_batch + np.random.randn(*x_batch.shape) * 0.2 + 0.5\n",
    "    return x_batch, y_batch"
   ]
  },
  {
   "cell_type": "code",
   "execution_count": 3,
   "metadata": {},
   "outputs": [],
   "source": [
    "x_batch, y_batch = generate_dataset()"
   ]
  },
  {
   "cell_type": "code",
   "execution_count": 4,
   "metadata": {},
   "outputs": [
    {
     "data": {
      "image/png": "[encoded data removed]",
      "text/plain": [
       "<Figure size 432x288 with 1 Axes>"
      ]
     },
     "metadata": {
      "needs_background": "light"
     },
     "output_type": "display_data"
    }
   ],
   "source": [
    "plt.scatter(x_batch, y_batch) \n",
    "plt.xlabel('x') \n",
    "plt.xlabel('y') \n",
    "plt.title(\"Training Data\") \n",
    "plt.show()"
   ]
  },
  {
   "cell_type": "code",
   "execution_count": 5,
   "metadata": {},
   "outputs": [
    {
     "name": "stdout",
     "output_type": "stream",
     "text": [
      "(100,)\n",
      "<class 'tuple'>\n"
     ]
    }
   ],
   "source": [
    "print(x_batch.shape)\n",
    "print(type(x_batch.shape))"
   ]
  },
  {
   "cell_type": "code",
   "execution_count": 6,
   "metadata": {},
   "outputs": [
    {
     "data": {
      "text/plain": [
       "array([-1.68959844,  0.09208835])"
      ]
     },
     "execution_count": 6,
     "metadata": {},
     "output_type": "execute_result"
    }
   ],
   "source": [
    "np.random.randn(*(2,))"
   ]
  },
  {
   "cell_type": "code",
   "execution_count": 7,
   "metadata": {},
   "outputs": [
    {
     "data": {
      "text/plain": [
       "array([0.26175983, 0.52188755])"
      ]
     },
     "execution_count": 7,
     "metadata": {},
     "output_type": "execute_result"
    }
   ],
   "source": [
    "np.random.randn(2)"
   ]
  },
  {
   "cell_type": "code",
   "execution_count": 8,
   "metadata": {},
   "outputs": [
    {
     "ename": "AttributeError",
     "evalue": "module 'tensorflow' has no attribute 'placeholder'",
     "output_type": "error",
     "traceback": [
      "\u001b[0;31m---------------------------------------------------------------------------\u001b[0m",
      "\u001b[0;31mAttributeError\u001b[0m                            Traceback (most recent call last)",
      "\u001b[0;32m<ipython-input-8-ae46b845e0bc>\u001b[0m in \u001b[0;36m<module>\u001b[0;34m\u001b[0m\n\u001b[0;32m----> 1\u001b[0;31m \u001b[0mx\u001b[0m \u001b[0;34m=\u001b[0m \u001b[0mtf\u001b[0m\u001b[0;34m.\u001b[0m\u001b[0mplaceholder\u001b[0m\u001b[0;34m(\u001b[0m\u001b[0mtf\u001b[0m\u001b[0;34m.\u001b[0m\u001b[0mfloat32\u001b[0m\u001b[0;34m,\u001b[0m \u001b[0mshape\u001b[0m\u001b[0;34m=\u001b[0m\u001b[0;34m(\u001b[0m\u001b[0;32mNone\u001b[0m\u001b[0;34m,\u001b[0m \u001b[0;34m)\u001b[0m\u001b[0;34m,\u001b[0m \u001b[0mname\u001b[0m\u001b[0;34m=\u001b[0m\u001b[0;34m'x'\u001b[0m\u001b[0;34m)\u001b[0m\u001b[0;34m\u001b[0m\u001b[0;34m\u001b[0m\u001b[0m\n\u001b[0m\u001b[1;32m      2\u001b[0m \u001b[0my\u001b[0m \u001b[0;34m=\u001b[0m \u001b[0mtf\u001b[0m\u001b[0;34m.\u001b[0m\u001b[0mplaceholder\u001b[0m\u001b[0;34m(\u001b[0m\u001b[0mtf\u001b[0m\u001b[0;34m.\u001b[0m\u001b[0mfloat32\u001b[0m\u001b[0;34m,\u001b[0m \u001b[0mshape\u001b[0m\u001b[0;34m=\u001b[0m\u001b[0;34m(\u001b[0m\u001b[0;32mNone\u001b[0m\u001b[0;34m,\u001b[0m \u001b[0;34m)\u001b[0m\u001b[0;34m,\u001b[0m \u001b[0mname\u001b[0m\u001b[0;34m=\u001b[0m\u001b[0;34m'y'\u001b[0m\u001b[0;34m)\u001b[0m\u001b[0;34m\u001b[0m\u001b[0;34m\u001b[0m\u001b[0m\n\u001b[1;32m      3\u001b[0m \u001b[0mx\u001b[0m\u001b[0;34m\u001b[0m\u001b[0;34m\u001b[0m\u001b[0m\n",
      "\u001b[0;31mAttributeError\u001b[0m: module 'tensorflow' has no attribute 'placeholder'"
     ]
    }
   ],
   "source": [
    "x = tf.placeholder(tf.float32, shape=(None, ), name='x')\n",
    "y = tf.placeholder(tf.float32, shape=(None, ), name='y')\n",
    "x"
   ]
  },
  {
   "cell_type": "code",
   "execution_count": 9,
   "metadata": {},
   "outputs": [
    {
     "name": "stdout",
     "output_type": "stream",
     "text": [
      "WARNING:tensorflow:From /Users/Murat/anaconda3/lib/python3.7/site-packages/tensorflow/python/compat/v2_compat.py:96: disable_resource_variables (from tensorflow.python.ops.variable_scope) is deprecated and will be removed in a future version.\n",
      "Instructions for updating:\n",
      "non-resource variables are not supported in the long term\n"
     ]
    }
   ],
   "source": [
    "import tensorflow.compat.v1 as tf\n",
    "tf.disable_v2_behavior() "
   ]
  },
  {
   "cell_type": "code",
   "execution_count": 13,
   "metadata": {},
   "outputs": [
    {
     "data": {
      "text/plain": [
       "<tf.Tensor 'x_1:0' shape=(?,) dtype=float32>"
      ]
     },
     "execution_count": 13,
     "metadata": {},
     "output_type": "execute_result"
    }
   ],
   "source": [
    "x = tf.placeholder(tf.float32, shape=(None, ), name='x')\n",
    "y = tf.placeholder(tf.float32, shape=(None, ), name='y')\n",
    "x"
   ]
  },
  {
   "cell_type": "code",
   "execution_count": 14,
   "metadata": {},
   "outputs": [],
   "source": [
    "def linear_regression():\n",
    "    x = tf.placeholder(tf.float32, shape=(None, ), name='x')\n",
    "    y = tf.placeholder(tf.float32, shape=(None, ), name='y')\n",
    "\n",
    "    with tf.variable_scope('lreg') as scope:\n",
    "        w = tf.Variable(np.random.normal(), name='W')\n",
    "        b = tf.Variable(np.random.normal(), name='b')\n",
    "    \n",
    "        y_pred = tf.add(tf.multiply(w, x), b)\n",
    "\n",
    "        loss = tf.reduce_mean(tf.square(y_pred - y))\n",
    "\n",
    "    return x, y, y_pred, loss"
   ]
  },
  {
   "cell_type": "code",
   "execution_count": 15,
   "metadata": {},
   "outputs": [],
   "source": [
    "x_batch, y_batch   = generate_dataset()\n",
    "x, y, y_pred, loss = linear_regression()\n",
    "\n",
    "optimizer = tf.train.GradientDescentOptimizer(0.1)\n",
    "train_op = optimizer.minimize(loss)"
   ]
  },
  {
   "cell_type": "code",
   "execution_count": 17,
   "metadata": {},
   "outputs": [
    {
     "name": "stdout",
     "output_type": "stream",
     "text": [
      "0 loss: 1.6225443\n",
      "1 loss: 0.9219785\n",
      "2 loss: 0.67706144\n",
      "3 loss: 0.5780296\n",
      "4 loss: 0.52656865\n",
      "5 loss: 0.4914225\n",
      "6 loss: 0.462604\n",
      "7 loss: 0.43687537\n",
      "8 loss: 0.41314375\n",
      "9 loss: 0.39099997\n",
      "10 loss: 0.37025592\n",
      "11 loss: 0.35079685\n",
      "12 loss: 0.33253497\n",
      "13 loss: 0.31539395\n",
      "14 loss: 0.29930416\n",
      "15 loss: 0.2842008\n",
      "16 loss: 0.27002338\n",
      "17 loss: 0.25671512\n",
      "18 loss: 0.2442227\n",
      "19 loss: 0.23249607\n",
      "20 loss: 0.22148836\n",
      "21 loss: 0.21115543\n",
      "22 loss: 0.20145595\n",
      "23 loss: 0.19235106\n",
      "24 loss: 0.18380432\n",
      "25 loss: 0.17578153\n",
      "26 loss: 0.16825056\n",
      "27 loss: 0.16118126\n",
      "28 loss: 0.15454532\n",
      "29 loss: 0.14831617\n",
      "Predicting\n"
     ]
    }
   ],
   "source": [
    "with tf.Session() as session:\n",
    "    session.run(tf.global_variables_initializer())\n",
    "    feed_dict = {x: x_batch, y: y_batch}      \n",
    "    \n",
    "    for i in range(30):\n",
    "        session.run(train_op, feed_dict)\n",
    "        print(i, \"loss:\", loss.eval(feed_dict))\n",
    "    \n",
    "    print('Predicting')\n",
    "    y_pred_batch = session.run(y_pred, {x : x_batch})"
   ]
  },
  {
   "cell_type": "code",
   "execution_count": 18,
   "metadata": {},
   "outputs": [
    {
     "data": {
      "text/plain": [
       "array([1.1177311, 1.1372818, 1.1568326, 1.1763833, 1.1959339, 1.2154847,\n",
       "       1.2350354, 1.2545861, 1.2741369, 1.2936876, 1.3132384, 1.3327891,\n",
       "       1.3523397, 1.3718905, 1.3914412, 1.4109919, 1.4305427, 1.4500934,\n",
       "       1.4696441, 1.4891949, 1.5087456, 1.5282962, 1.547847 , 1.5673977,\n",
       "       1.5869484, 1.6064992, 1.6260499, 1.6456006, 1.6651514, 1.684702 ,\n",
       "       1.7042528, 1.7238035, 1.7433543, 1.762905 , 1.7824557, 1.8020065,\n",
       "       1.8215572, 1.8411078, 1.8606586, 1.8802093, 1.89976  , 1.9193108,\n",
       "       1.9388615, 1.9584122, 1.977963 , 1.9975137, 2.0170643, 2.0366151,\n",
       "       2.0561657, 2.0757165, 2.0952673, 2.114818 , 2.1343687, 2.1539195,\n",
       "       2.17347  , 2.1930208, 2.2125716, 2.2321224, 2.251673 , 2.2712238,\n",
       "       2.2907746, 2.3103251, 2.329876 , 2.3494267, 2.3689775, 2.388528 ,\n",
       "       2.408079 , 2.4276295, 2.4471803, 2.466731 , 2.4862819, 2.5058324,\n",
       "       2.5253832, 2.5449338, 2.5644846, 2.5840354, 2.6035862, 2.6231368,\n",
       "       2.6426876, 2.6622381, 2.681789 , 2.7013397, 2.7208905, 2.7404413,\n",
       "       2.759992 , 2.7795424, 2.7990932, 2.818644 , 2.8381948, 2.8577456,\n",
       "       2.8772962, 2.8968468, 2.9163976, 2.9359484, 2.9554992, 2.97505  ,\n",
       "       2.9946005, 3.014151 , 3.033702 , 3.0532527], dtype=float32)"
      ]
     },
     "execution_count": 18,
     "metadata": {},
     "output_type": "execute_result"
    }
   ],
   "source": [
    "y_pred_batch"
   ]
  },
  {
   "cell_type": "code",
   "execution_count": 20,
   "metadata": {},
   "outputs": [
    {
     "data": {
      "image/png": "[encoded data removed]",
      "text/plain": [
       "<Figure size 432x288 with 1 Axes>"
      ]
     },
     "metadata": {
      "needs_background": "light"
     },
     "output_type": "display_data"
    }
   ],
   "source": [
    "plt.scatter(x_batch, y_batch)\n",
    "plt.plot(x_batch, y_pred_batch, color='red')\n",
    "#plt.xlim(0, 2)\n",
    "#plt.ylim(0, 2)\n",
    "plt.savefig('plot.png')"
   ]
  },
  {
   "cell_type": "code",
   "execution_count": null,
   "metadata": {},
   "outputs": [],
   "source": []
  }
 ],
 "metadata": {
  "kernelspec": {
   "display_name": "Python 3",
   "language": "python",
   "name": "python3"
  },
  "language_info": {
   "codemirror_mode": {
    "name": "ipython",
    "version": 3
   },
   "file_extension": ".py",
   "mimetype": "text/x-python",
   "name": "python",
   "nbconvert_exporter": "python",
   "pygments_lexer": "ipython3",
   "version": "3.7.3"
  },
  "toc": {
   "base_numbering": 1,
   "nav_menu": {},
   "number_sections": false,
   "sideBar": true,
   "skip_h1_title": true,
   "title_cell": "Table of Contents",
   "title_sidebar": "Contents",
   "toc_cell": false,
   "toc_position": {},
   "toc_section_display": true,
   "toc_window_display": false
  }
 },
 "nbformat": 4,
 "nbformat_minor": 2
}
