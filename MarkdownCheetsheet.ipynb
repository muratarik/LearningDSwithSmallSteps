{
 "cells": [
  {
   "cell_type": "code",
   "execution_count": null,
   "metadata": {},
   "outputs": [],
   "source": []
  },
  {
   "cell_type": "markdown",
   "metadata": {},
   "source": [
    "\\begin{equation}\n",
    "...\n",
    "\\end{equation}"
   ]
  },
  {
   "cell_type": "markdown",
   "metadata": {},
   "source": [
    "# Markdown Cheetsheet for Greek Letters and Math Formulas"
   ]
  },
  {
   "cell_type": "markdown",
   "metadata": {},
   "source": [
    "## Greek Letters\n",
    "\n",
    "\n",
    "Greek Letter Lowercase|Syntax |Greek Letter Capital|Syntax|\n",
    "-----------|-----|---------|--|\n",
    "$\\alpha$    |\\alpha | $A$ | \\A |\n",
    "$\\beta$     |\\beta  | $B$   | \\B |\n",
    "$\\gamma$    |\\gamma| $\\Gamma$   | \\Gamma |\n",
    "$\\delta$\t|\\delta    | $\\Delta$    | \\Delta |\n",
    "$\\epsilon$    |\\epsilon | $E$ | \\E |\n",
    "$\\zeta$    |\\zeta | $Z$ | \\Z |\n",
    "$\\eta$    |\\eta | $H$ | \\H |\n",
    "$\\theta$    |\\theta | $\\Theta$ | \\Theta |\n",
    "$\\iota$    |\\iota | $I$ | \\I |\n",
    "$\\kappa$    |\\kappa | $K$ | \\K |\n",
    "$\\lambda$    |\\lambda | $\\Lambda$ | \\Lambda |\n",
    "$\\mu$    |\\mu | $M$ | \\M |\n",
    "$\\nu$    |\\nu | $N$ | \\N |\n",
    "$\\xi$    |\\xi | $\\Xi$ | \\Xxi |\n",
    "$o$    |\\o | $O$ | \\O |\n",
    "$\\pi$    |\\pi | $\\Pi$ | \\Pi |\n",
    "$\\rho$    |\\rho | $P$ | \\P |\n",
    "$\\sigma$    |\\sigma | $\\Sigma$ | \\Sigma |\n",
    "$\\tau$    |\\tau | $T$ | \\T |\n",
    "$\\upsilon$    |\\upsilon | $\\Upsilon$ | \\Upsilon |\n",
    "$\\phi$    |\\phi | $\\Phi$ | \\Phi |\n",
    "$\\chi$    |\\chi | $X$ | \\X |\n",
    "$\\psi$    |\\psi | $\\Psi$ | \\Psi |\n",
    "$\\omega$    |\\omega | $\\Omega$ | \\Omega |\n"
   ]
  },
  {
   "cell_type": "markdown",
   "metadata": {},
   "source": [
    "# Mathematic Formulas"
   ]
  },
  {
   "cell_type": "markdown",
   "metadata": {},
   "source": [
    "## Operators\n",
    "\n",
    "$\\cos$\t\\cos\n",
    "\n",
    "$\\sin$\t\\sin\n",
    "\n",
    "$\\lim$\t\\lim\n",
    "\n",
    "$\\exp$\t\\exp\n",
    "\n",
    "$\\to$\t\\to\n",
    "\n",
    "$\\infty$\t\\infty\n",
    "\n",
    "$\\equiv$\t\\equiv\n",
    "\n",
    "$\\bmod$\t\\bmod\n",
    "\n",
    "$\\times$\t\\times"
   ]
  },
  {
   "cell_type": "markdown",
   "metadata": {},
   "source": [
    "## Power and Indices\n",
    "\n",
    "\n",
    "$k_{n+1}$\tk_{n+1}\n",
    "\n",
    "$n^2$\tn^2\n",
    "\n",
    "$k_n^2$\tk_n^2"
   ]
  },
  {
   "cell_type": "markdown",
   "metadata": {},
   "source": [
    "## Fractions and Binomials\n",
    "\n",
    "$^nP_k =\\frac{n!}{(n-k)!}$\n",
    "\n",
    "$\\frac{n!}{k!(n-k)!}$\t\\frac{n!}{k!(n-k)!}\n",
    "\n",
    "$\\binom{n}{k} = \\frac{n!}{k!(n-k)!}$\t\\binom{n}{k}\n",
    "\n",
    "$\\frac{\\frac{x}{1}}{x - y}$\t\\frac{\\frac{x}{1}}{x - y}\n",
    "\n",
    "$^3/_7$\t^3/_7"
   ]
  },
  {
   "cell_type": "markdown",
   "metadata": {},
   "source": [
    "## Roots\n",
    "\n",
    "$\\sqrt{k}$\t\\sqrt{k}\n",
    "\n",
    "$\\sqrt[n]{k}$\t\\sqrt[n]{k}"
   ]
  },
  {
   "cell_type": "markdown",
   "metadata": {},
   "source": [
    "## Sums and Integrals\n",
    "\n",
    "$\\sum_{i=1}^{10} t_i$\t\\sum_{i=1}^{10} t_i\n",
    "\n",
    "$\\int_0^\\infty \\mathrm{e}^{-x},\\mathrm{d}x$\t\\int_0^\\infty \\mathrm{e}^{-x},\\mathrm{d}x\n",
    "\n",
    "$\\sum$\t\\sum\n",
    "\n",
    "$\\prod$\t\\prod\n",
    "\n",
    "$\\coprod$\t\\coprod\n",
    "\n",
    "$\\bigoplus$\t\\bigoplus\n",
    "\n",
    "$\\bigotimes$\t\\bigotimes\n",
    "\n",
    "$\\bigodot$\t\\bigodot\n",
    "\n",
    "$\\bigcup$\t\\bigcup\n",
    "\n",
    "$\\bigcap$\t\\bigcap\n",
    "\n",
    "$\\biguplus$\t\\biguplus\n",
    "\n",
    "$\\bigsqcup$\t\\bigsqcup\n",
    "\n",
    "$\\bigvee$\t\\bigvee\n",
    "\n",
    "$\\bigwedge$\t\\bigwedge\n",
    "\n",
    "$\\int$\t\\int\n",
    "\n",
    "$\\oint$\t\\oint\n",
    "\n",
    "$\\iint$\t\\iint\n",
    "\n",
    "$\\iiint$\t\\iiint\n",
    "\n",
    "$\\idotsint$\t\\idotsint\n",
    "\n",
    "$\\sum_{\\substack{0<i<m\\0<j<n}} P(i, j)$\t\\sum_{\\substack{0<i<m\\0<j<n}} P(i, j)\n",
    "\n",
    "$\\int\\limits_a^b$\t    \\int\\limits_a^b\n",
    "\n"
   ]
  },
  {
   "cell_type": "markdown",
   "metadata": {},
   "source": [
    "## Symbol\tScript\n",
    "\n",
    "$a’$ $a^{\\prime}$\ta` a^{\\prime}\n",
    "\n",
    "$a’’$\ta’’\n",
    "\n",
    "$\\hat{a}$\that{a}\n",
    "\n",
    "$\\bar{a}$\t\\bar{a}\n",
    "\n",
    "$\\grave{a}$\t\\grave{a}\n",
    "\n",
    "$\\acute{a}$\t\\acute{a}\n",
    "\n",
    "$\\dot{a}$\t\\dot{a}\n",
    "\n",
    "$\\ddot{a}$\t\\ddot{a}\n",
    "\n",
    "$\\not{a}$\t\\not{a}\n",
    "\n",
    "$\\mathring{a}$\t\\mathring{a}\n",
    "\n",
    "$\\overrightarrow{AB}$\t\\overrightarrow{AB}\n",
    "\n",
    "$\\overleftarrow{AB}$\t\\overleftarrow{AB}\n",
    "\n",
    "$a’’’$\ta’’’\n",
    "\n",
    "$\\overline{aaa}$\t\\overline{aaa}\n",
    "\n",
    "$\\check{a}$\t\\check{a}\n",
    "\n",
    "$\\vec{a}$\t\\vec{a}\n",
    "\n",
    "$\\underline{a}$\t\\underline{a}\n",
    "\n",
    "$\\color{red}x$\t\\color{red}x\n",
    "\n",
    "$\\pm$\t\\pm\n",
    "\n",
    "$\\mp$\t\\mp\n",
    "\n",
    "$\\int y \\mathrm{d}x$\t\\int y \\mathrm{d}x\n",
    "\n",
    "$,$\t,\n",
    "\n",
    "$:$\t:\n",
    "\n",
    "$;$\t;\n",
    "\n",
    "$!$\t!\n",
    "\n",
    "$\\int y, \\mathrm{d}x$\t\\int y, \\mathrm{d}x"
   ]
  },
  {
   "cell_type": "markdown",
   "metadata": {},
   "source": [
    "# dots\n",
    "\n",
    "$\\dots$\t\\dots\n",
    "\n",
    "$\\ldots$\t\\ldots\n",
    "\n",
    "$\\cdots$\t\\cdots\n",
    "\n",
    "$\\vdots$\t\\vdots\n",
    "\n",
    "$\\ddots$\t\\ddots\n",
    "\n",
    "$\\geqslant$  \\geqslant\n",
    "\n",
    "$\\leqslant$ \\leqslant"
   ]
  },
  {
   "cell_type": "markdown",
   "metadata": {},
   "source": [
    "## Brackets etc\n",
    "\n",
    "$(a)$\t(a)\n",
    "\n",
    "$[a]$\t[a]\n",
    "\n",
    "${a}$\t{a}\n",
    "\n",
    "$\\langle f \\rangle$\t\\langle f \\rangle\n",
    "\n",
    "$\\lfloor f \\rfloor$\t\\lfloor f \\rfloor\n",
    "\n",
    "$\\lceil f \\rceil$\t\\lceil f \\rceil\n",
    "\n",
    "$\\ulcorner f \\urcorner$\t\\ulcorner f \\urcorner"
   ]
  },
  {
   "cell_type": "markdown",
   "metadata": {},
   "source": [
    "reference: https://csrgxtu.github.io/2015/03/20/Writing-Mathematic-Fomulars-in-Markdown/"
   ]
  },
  {
   "cell_type": "code",
   "execution_count": null,
   "metadata": {},
   "outputs": [],
   "source": []
  },
  {
   "cell_type": "code",
   "execution_count": null,
   "metadata": {},
   "outputs": [],
   "source": []
  }
 ],
 "metadata": {
  "kernelspec": {
   "display_name": "Python 3",
   "language": "python",
   "name": "python3"
  },
  "language_info": {
   "codemirror_mode": {
    "name": "ipython",
    "version": 3
   },
   "file_extension": ".py",
   "mimetype": "text/x-python",
   "name": "python",
   "nbconvert_exporter": "python",
   "pygments_lexer": "ipython3",
   "version": "3.7.3"
  },
  "toc": {
   "base_numbering": 1,
   "nav_menu": {},
   "number_sections": false,
   "sideBar": true,
   "skip_h1_title": true,
   "title_cell": "Table of Contents",
   "title_sidebar": "Contents",
   "toc_cell": false,
   "toc_position": {},
   "toc_section_display": true,
   "toc_window_display": false
  }
 },
 "nbformat": 4,
 "nbformat_minor": 2
}
