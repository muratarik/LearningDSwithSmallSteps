{
 "cells": [
  {
   "cell_type": "code",
   "execution_count": null,
   "metadata": {},
   "outputs": [],
   "source": []
  },
  {
   "cell_type": "markdown",
   "metadata": {},
   "source": []
  },
  {
   "cell_type": "markdown",
   "metadata": {},
   "source": [
    "Python Collections (Arrays)\n",
    "There are four collection data types in the Python programming language:\n",
    "\n",
    "* List is a collection which is ordered and changeable. Allows duplicate members.\n",
    "* Tuple is a collection which is ordered and unchangeable. Allows duplicate members.\n",
    "* Set is a collection which is unordered and unindexed. No duplicate members.\n",
    "* Dictionary is a collection which is unordered and changeable. No duplicate members."
   ]
  },
  {
   "cell_type": "code",
   "execution_count": 14,
   "metadata": {},
   "outputs": [
    {
     "name": "stdout",
     "output_type": "stream",
     "text": [
      "list_a:  [1, 2, 2]\n",
      "<class 'list'>\n",
      "\n",
      "tuple_a:  (1, 2, 3, 3)\n",
      "<class 'tuple'>\n",
      "\n",
      "set_a:  {'apple', 'banana', 'cherry'}\n",
      "<class 'set'>\n",
      "\n",
      "dict_a:  {'z': 1, 'c': 2.1}\n",
      "<class 'dict'>\n"
     ]
    }
   ],
   "source": [
    "list_a=[1,2,2]\n",
    "print('list_a: ',list_a)\n",
    "print(type(list_a))\n",
    "print(\"\")\n",
    "\n",
    "tuple_a = (1,2,3,3)\n",
    "print('tuple_a: ',tuple_a)\n",
    "print(type(tuple_a))\n",
    "print(\"\")\n",
    "\n",
    "\n",
    "set_a = {\"apple\", \"banana\", \"cherry\",\"banana\",\"banana\"}\n",
    "print('set_a: ',set_a)\n",
    "print(type(set_a))\n",
    "print(\"\")\n",
    "\n",
    "dict_a={'z':1,'c':2,'c':2.1}\n",
    "print('dict_a: ',dict_a)\n",
    "print(type(dict_a))"
   ]
  },
  {
   "cell_type": "code",
   "execution_count": null,
   "metadata": {},
   "outputs": [],
   "source": []
  }
 ],
 "metadata": {
  "kernelspec": {
   "display_name": "Python 3",
   "language": "python",
   "name": "python3"
  },
  "language_info": {
   "codemirror_mode": {
    "name": "ipython",
    "version": 3
   },
   "file_extension": ".py",
   "mimetype": "text/x-python",
   "name": "python",
   "nbconvert_exporter": "python",
   "pygments_lexer": "ipython3",
   "version": "3.7.3"
  },
  "toc": {
   "base_numbering": 1,
   "nav_menu": {},
   "number_sections": false,
   "sideBar": true,
   "skip_h1_title": true,
   "title_cell": "Table of Contents",
   "title_sidebar": "Contents",
   "toc_cell": false,
   "toc_position": {},
   "toc_section_display": true,
   "toc_window_display": false
  }
 },
 "nbformat": 4,
 "nbformat_minor": 2
}
