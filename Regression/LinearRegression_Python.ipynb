{
 "cells": [
  {
   "cell_type": "markdown",
   "metadata": {},
   "source": [
    " https://www.geeksforgeeks.org/linear-regression-python-implementation/"
   ]
  },
  {
   "cell_type": "code",
   "execution_count": null,
   "metadata": {},
   "outputs": [],
   "source": []
  },
  {
   "cell_type": "code",
   "execution_count": 2,
   "metadata": {},
   "outputs": [],
   "source": [
    "import numpy as np \n",
    "import matplotlib.pyplot as plt "
   ]
  },
  {
   "cell_type": "code",
   "execution_count": 3,
   "metadata": {},
   "outputs": [],
   "source": [
    "def estimate_coef(x, y): \n",
    "\t# number of observations/points \n",
    "\tn = np.size(x) \n",
    "\n",
    "\t# mean of x and y vector \n",
    "\tm_x, m_y = np.mean(x), np.mean(y) \n",
    "\n",
    "\t# calculating cross-deviation and deviation about x \n",
    "\tSS_xy = np.sum(y*x) - n*m_y*m_x \n",
    "\tSS_xx = np.sum(x*x) - n*m_x*m_x \n",
    "\n",
    "\t# calculating regression coefficients \n",
    "\tb_1 = SS_xy / SS_xx \n",
    "\tb_0 = m_y - b_1*m_x \n",
    "\n",
    "\treturn(b_0, b_1)"
   ]
  },
  {
   "cell_type": "code",
   "execution_count": 4,
   "metadata": {},
   "outputs": [],
   "source": [
    "def plot_regression_line(x, y, b): \n",
    "\t# plotting the actual points as scatter plot \n",
    "\tplt.scatter(x, y, color = \"m\", marker = \"o\", s = 30) \n",
    "\n",
    "\t# predicted response vector \n",
    "\ty_pred = b[0] + b[1]*x \n",
    "\n",
    "\t# plotting the regression line \n",
    "\tplt.plot(x, y_pred, color = \"g\") \n",
    "\n",
    "\t# putting labels \n",
    "\tplt.xlabel('x') \n",
    "\tplt.ylabel('y') \n",
    "\n",
    "\t# function to show plot \n",
    "\tplt.show() "
   ]
  },
  {
   "cell_type": "code",
   "execution_count": null,
   "metadata": {},
   "outputs": [],
   "source": []
  },
  {
   "cell_type": "code",
   "execution_count": 6,
   "metadata": {},
   "outputs": [
    {
     "name": "stdout",
     "output_type": "stream",
     "text": [
      "Estimated coefficients:\n",
      "b_0 = 1.2363636363636363 \\ \n",
      "b_1 = 1.1696969696969697\n"
     ]
    },
    {
     "data": {
      "image/png": "[encoded data removed]",
      "text/plain": [
       "<Figure size 432x288 with 1 Axes>"
      ]
     },
     "metadata": {
      "needs_background": "light"
     },
     "output_type": "display_data"
    }
   ],
   "source": [
    "def main(): \n",
    "\t# observations \n",
    "\tx = np.array([0, 1, 2, 3, 4, 5, 6, 7, 8, 9]) \n",
    "\ty = np.array([1, 3, 2, 5, 7, 8, 8, 9, 10, 12]) \n",
    "\n",
    "\t# estimating coefficients \n",
    "\tb = estimate_coef(x, y) \n",
    "\tprint(\"Estimated coefficients:\\nb_0 = {} \\ \\nb_1 = {}\".format(b[0], b[1])) \n",
    "\n",
    "\t# plotting regression line \n",
    "\tplot_regression_line(x, y, b) \n",
    "\n",
    "if __name__ == \"__main__\": \n",
    "\tmain()"
   ]
  },
  {
   "cell_type": "code",
   "execution_count": null,
   "metadata": {},
   "outputs": [],
   "source": []
  },
  {
   "cell_type": "code",
   "execution_count": 7,
   "metadata": {},
   "outputs": [
    {
     "name": "stdout",
     "output_type": "stream",
     "text": [
      "Estimated coefficients:\n",
      "b_0 = 1.2363636363636363 \\ \n",
      "b_1 = 1.1696969696969697\n"
     ]
    },
    {
     "data": {
      "image/png": "[encoded data removed]",
      "text/plain": [
       "<Figure size 432x288 with 1 Axes>"
      ]
     },
     "metadata": {
      "needs_background": "light"
     },
     "output_type": "display_data"
    }
   ],
   "source": [
    "# observations \n",
    "x = np.array([0, 1, 2, 3, 4, 5, 6, 7, 8, 9]) \n",
    "y = np.array([1, 3, 2, 5, 7, 8, 8, 9, 10, 12]) \n",
    "\n",
    "# estimating coefficients \n",
    "b = estimate_coef(x, y) \n",
    "print(\"Estimated coefficients:\\nb_0 = {} \\ \\nb_1 = {}\".format(b[0], b[1])) \n",
    "\n",
    "# plotting regression line \n",
    "plot_regression_line(x, y, b) "
   ]
  },
  {
   "cell_type": "code",
   "execution_count": null,
   "metadata": {},
   "outputs": [],
   "source": []
  },
  {
   "cell_type": "markdown",
   "metadata": {},
   "source": [
    "## Multible Linear Regression"
   ]
  },
  {
   "cell_type": "code",
   "execution_count": 8,
   "metadata": {},
   "outputs": [],
   "source": [
    "import matplotlib.pyplot as plt \n",
    "import numpy as np \n",
    "from sklearn import datasets, linear_model, metrics "
   ]
  },
  {
   "cell_type": "code",
   "execution_count": 10,
   "metadata": {},
   "outputs": [],
   "source": [
    "# load the boston dataset \n",
    "boston = datasets.load_boston(return_X_y=False) "
   ]
  },
  {
   "cell_type": "code",
   "execution_count": 11,
   "metadata": {},
   "outputs": [],
   "source": [
    "# defining feature matrix(X) and response vector(y) \n",
    "X = boston.data \n",
    "y = boston.target "
   ]
  },
  {
   "cell_type": "code",
   "execution_count": 12,
   "metadata": {},
   "outputs": [],
   "source": [
    "# splitting X and y into training and testing sets \n",
    "\n",
    "from sklearn.model_selection import train_test_split \n",
    "X_train, X_test, y_train, y_test = train_test_split(X, y, test_size=0.4, random_state=1) "
   ]
  },
  {
   "cell_type": "code",
   "execution_count": 13,
   "metadata": {},
   "outputs": [],
   "source": [
    "# create linear regression object \n",
    "reg = linear_model.LinearRegression()"
   ]
  },
  {
   "cell_type": "code",
   "execution_count": 14,
   "metadata": {},
   "outputs": [
    {
     "data": {
      "text/plain": [
       "LinearRegression()"
      ]
     },
     "execution_count": 14,
     "metadata": {},
     "output_type": "execute_result"
    }
   ],
   "source": [
    "# train the model using the training sets \n",
    "reg.fit(X_train, y_train) "
   ]
  },
  {
   "cell_type": "code",
   "execution_count": 15,
   "metadata": {},
   "outputs": [
    {
     "name": "stdout",
     "output_type": "stream",
     "text": [
      "Coefficients: \n",
      " [-8.95714048e-02  6.73132853e-02  5.04649248e-02  2.18579583e+00\n",
      " -1.72053975e+01  3.63606995e+00  2.05579939e-03 -1.36602886e+00\n",
      "  2.89576718e-01 -1.22700072e-02 -8.34881849e-01  9.40360790e-03\n",
      " -5.04008320e-01]\n"
     ]
    }
   ],
   "source": [
    "# regression coefficients \n",
    "print('Coefficients: \\n', reg.coef_) "
   ]
  },
  {
   "cell_type": "code",
   "execution_count": 16,
   "metadata": {},
   "outputs": [
    {
     "name": "stdout",
     "output_type": "stream",
     "text": [
      "Variance score: 0.720905667266178\n"
     ]
    }
   ],
   "source": [
    "# variance score: 1 means perfect prediction \n",
    "print('Variance score: {}'.format(reg.score(X_test, y_test)))"
   ]
  },
  {
   "cell_type": "code",
   "execution_count": 20,
   "metadata": {},
   "outputs": [
    {
     "data": {
      "image/png": "[encoded data removed]",
      "text/plain": [
       "<Figure size 432x288 with 1 Axes>"
      ]
     },
     "metadata": {},
     "output_type": "display_data"
    }
   ],
   "source": [
    "# plot for residual error \n",
    "## setting plot style \n",
    "plt.style.use('fivethirtyeight') \n",
    "\n",
    "## plotting residual errors in training data \n",
    "plt.scatter(reg.predict(X_train), reg.predict(X_train) - y_train, color = \"green\", s = 10, label = 'Train data') \n",
    "\n",
    "## plotting residual errors in test data \n",
    "plt.scatter(reg.predict(X_test), reg.predict(X_test) - y_test, color = \"blue\", s = 10, label = 'Test data') \n",
    "\n",
    "## plotting line for zero residual error \n",
    "plt.hlines(y = 0, xmin = 0, xmax = 50, linewidth = 2) \n",
    "\n",
    "## plotting legend \n",
    "plt.legend(loc = 'upper right') \n",
    "\n",
    "## plot title \n",
    "plt.title(\"Residual errors\") \n",
    "\n",
    "## function to show plot \n",
    "plt.show() "
   ]
  },
  {
   "cell_type": "code",
   "execution_count": null,
   "metadata": {},
   "outputs": [],
   "source": []
  },
  {
   "cell_type": "code",
   "execution_count": null,
   "metadata": {},
   "outputs": [],
   "source": []
  },
  {
   "cell_type": "code",
   "execution_count": null,
   "metadata": {},
   "outputs": [],
   "source": [
    "\n",
    "\n"
   ]
  },
  {
   "cell_type": "code",
   "execution_count": null,
   "metadata": {},
   "outputs": [],
   "source": []
  }
 ],
 "metadata": {
  "kernelspec": {
   "display_name": "Python 3",
   "language": "python",
   "name": "python3"
  },
  "language_info": {
   "codemirror_mode": {
    "name": "ipython",
    "version": 3
   },
   "file_extension": ".py",
   "mimetype": "text/x-python",
   "name": "python",
   "nbconvert_exporter": "python",
   "pygments_lexer": "ipython3",
   "version": "3.7.3"
  },
  "toc": {
   "base_numbering": 1,
   "nav_menu": {},
   "number_sections": false,
   "sideBar": true,
   "skip_h1_title": true,
   "title_cell": "Table of Contents",
   "title_sidebar": "Contents",
   "toc_cell": false,
   "toc_position": {},
   "toc_section_display": true,
   "toc_window_display": false
  }
 },
 "nbformat": 4,
 "nbformat_minor": 2
}
